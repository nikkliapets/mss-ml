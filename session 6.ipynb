{
 "cells": [
  {
   "cell_type": "markdown",
   "id": "ae7b7371-6858-46c5-b522-bdd2b1462bbf",
   "metadata": {},
   "source": [
    "# Downstream Exploitation of Space Data\n",
    "## Session 6: Supervised Machine Learning\n",
    "\n",
    "### Learning Objectives\n",
    "\n",
    "You will: \n",
    "* know the type of problems supervised machine learning solves and see some examples\n",
    "* be able to fit a linear regression to a (toy) dataset\n",
    "* be able to classify objects using a Random Forest classifier\n",
    "* get familiat with how to analyze the performance of a classifier\n",
    "* get familiar with variable star classification learning problem"
   ]
  },
  {
   "cell_type": "markdown",
   "id": "945f2060-286c-477d-a476-86a43987ee8a",
   "metadata": {},
   "source": [
    "### Regression\n",
    "\n",
    "Regression is a type of supervised learning in machine learning where the goal is to model the relationship between a dependent variable (target) and one or more independent variables (features). The objective is to predict a continuous outcome based on the input data."
   ]
  },
  {
   "cell_type": "code",
   "execution_count": null,
   "id": "f06e1c72-ce5b-4c62-98c0-f9f0cfd51c56",
   "metadata": {},
   "outputs": [],
   "source": [
    "import numpy as np\n",
    "import pandas as pd\n",
    "import matplotlib.pyplot as plt\n",
    "from sklearn.model_selection import train_test_split\n",
    "from sklearn.metrics import mean_squared_error, r2_score\n",
    "from sklearn.linear_model import LinearRegression\n",
    "from sklearn.datasets import make_regression # we will use this to generate a dataset for our regression"
   ]
  },
  {
   "cell_type": "markdown",
   "id": "85c06b40-d773-4008-9e2e-6f7a5adc6a7b",
   "metadata": {},
   "source": [
    "Let's generate our data:"
   ]
  },
  {
   "cell_type": "code",
   "execution_count": null,
   "id": "b5eb3052-e166-45b9-8c13-489542a41d39",
   "metadata": {},
   "outputs": [],
   "source": [
    "X, y = make_regression(n_samples=100, n_features=1, noise=10, random_state=42)"
   ]
  },
  {
   "cell_type": "markdown",
   "id": "1e13560c-5f7b-40e9-9620-3dee885e21bd",
   "metadata": {},
   "source": [
    "We can get some information on our dataset:"
   ]
  },
  {
   "cell_type": "code",
   "execution_count": null,
   "id": "24cd38db-0711-451d-a8b0-c7a3c2d3b423",
   "metadata": {},
   "outputs": [],
   "source": [
    "data = pd.DataFrame({'Feature': X.flatten(), 'Target': y})"
   ]
  },
  {
   "cell_type": "code",
   "execution_count": null,
   "id": "e94455d3-09d2-44b1-893e-fa2a3aa9c39f",
   "metadata": {},
   "outputs": [],
   "source": [
    "print('Feature (x):')\n",
    "print(data['Feature'].describe())\n",
    "print('======')\n",
    "print('Target (y):')\n",
    "print(data['Target'].describe())"
   ]
  },
  {
   "cell_type": "markdown",
   "id": "b6459988-6dc3-4035-bb35-692f4c71f0b8",
   "metadata": {},
   "source": [
    "We now split our dataset into a train (80%) and test sets (20%):"
   ]
  },
  {
   "cell_type": "code",
   "execution_count": null,
   "id": "adafe518-034f-4cba-ba51-91220c8e07ab",
   "metadata": {},
   "outputs": [],
   "source": [
    "X_train, X_test, y_train, y_test = train_test_split(X, y, test_size=0.2, random_state=42)"
   ]
  },
  {
   "cell_type": "markdown",
   "id": "42a8ad9d-a9a7-46af-9616-32b3630184c4",
   "metadata": {},
   "source": [
    "**Discuss with your neighbour:** why is it important to have a separate test set?"
   ]
  },
  {
   "cell_type": "markdown",
   "id": "4b2e0aa4-3231-4822-9d3e-f1080de3b915",
   "metadata": {},
   "source": [
    "We will now fit a linear regression model to this dataset, i.e. a straight line described as y = mx + b:"
   ]
  },
  {
   "cell_type": "code",
   "execution_count": null,
   "id": "a6e87e66-f36e-49d8-9672-fdebcc94c549",
   "metadata": {},
   "outputs": [],
   "source": [
    "model = LinearRegression()\n",
    "model.fit(X_train, y_train)"
   ]
  },
  {
   "cell_type": "code",
   "execution_count": null,
   "id": "cba825a3-0ff2-4d7e-a61c-8e46e07046a6",
   "metadata": {},
   "outputs": [],
   "source": [
    "y_pred = model.predict(X_test) # making predictions on the test set"
   ]
  },
  {
   "cell_type": "markdown",
   "id": "a2a2655c-ce64-4a8a-bb15-384801b2ad63",
   "metadata": {},
   "source": [
    "We can now visualize our dataset and the fitted line:"
   ]
  },
  {
   "cell_type": "code",
   "execution_count": null,
   "id": "072597be-625c-4d96-b365-e831c448ecb9",
   "metadata": {},
   "outputs": [],
   "source": [
    "plt.figure(figsize=(8, 5))\n",
    "plt.scatter(X_train, y_train, color='blue', label='Training data', s=5) # trainin set\n",
    "plt.scatter(X_test, y_test, color='green', label='Test data', s=5) # test set\n",
    "plt.plot(X_test, y_pred, color='pink', label='Fitted line') # the line we have fitted\n",
    "plt.xlabel('Feature')\n",
    "plt.ylabel('Target')\n",
    "plt.title('Linear regression')\n",
    "plt.legend()\n",
    "plt.show()"
   ]
  },
  {
   "cell_type": "markdown",
   "id": "c18a581b-0239-4df2-9811-ac2e6be34390",
   "metadata": {},
   "source": [
    "Let's print the regression parameters:"
   ]
  },
  {
   "cell_type": "code",
   "execution_count": null,
   "id": "c0c2d72f-81dc-4f54-87e6-3a1ccf7fe38e",
   "metadata": {},
   "outputs": [],
   "source": [
    "print(f'Coefficient: {model.coef_[0]}')\n",
    "print(f'Intercept: {model.intercept_}')"
   ]
  },
  {
   "cell_type": "markdown",
   "id": "b58c48f1-20ff-4a45-a5c6-d5a2da0837d3",
   "metadata": {},
   "source": [
    "Therefore, our model is decribed by the following equation:"
   ]
  },
  {
   "cell_type": "code",
   "execution_count": null,
   "id": "40b284c0-eb15-4191-98d8-72a12a1e3f2e",
   "metadata": {},
   "outputs": [],
   "source": [
    "print(f' y = {model.coef_[0]:.2f}x + {model.intercept_:.2f}')"
   ]
  },
  {
   "cell_type": "markdown",
   "id": "1e9b2916-558d-4ad4-a00b-4d1a84863700",
   "metadata": {},
   "source": [
    "We can predict the value of the target variable for a new datapoint (not in our dataset) using our model:"
   ]
  },
  {
   "cell_type": "code",
   "execution_count": null,
   "id": "337c42d5-4f8c-4629-bafe-3dc090d91ec3",
   "metadata": {},
   "outputs": [],
   "source": [
    "new_data = np.array([[3.7]])  # change the number in [] to predit a new y value\n",
    "\n",
    "predicted_y = model.predict(new_data)\n",
    "print(f'y({new_data[0][0]}) = {predicted_y[0]}')"
   ]
  },
  {
   "cell_type": "markdown",
   "id": "33f16ada-d50d-4e67-86df-bf51bc305838",
   "metadata": {},
   "source": [
    "**To do:** Try a few different x values to predict y values for them."
   ]
  },
  {
   "cell_type": "markdown",
   "id": "abeb0c76-85f7-4cce-abb5-768b205401ba",
   "metadata": {},
   "source": [
    "We can evaluate the model by looking at some of its performance metrics:"
   ]
  },
  {
   "cell_type": "code",
   "execution_count": null,
   "id": "1ae986d6-0896-436b-acad-8a47ab730153",
   "metadata": {},
   "outputs": [],
   "source": [
    "mse = mean_squared_error(y_test, y_pred)\n",
    "r2 = r2_score(y_test, y_pred)"
   ]
  },
  {
   "cell_type": "code",
   "execution_count": null,
   "id": "1c4e5f89-e60b-4920-ba2f-801a99c1af98",
   "metadata": {},
   "outputs": [],
   "source": [
    "print(f'Mean Squared Error (MSE): {mse:.2f}')\n",
    "print(f'R-squared (R²): {r2:.2f}')"
   ]
  },
  {
   "cell_type": "markdown",
   "id": "fc25ee75-9a37-4d94-aa02-b179dc562359",
   "metadata": {},
   "source": [
    "**Discuss with your neighbour:** do you think the model performs well?"
   ]
  },
  {
   "cell_type": "markdown",
   "id": "535e6460-3693-4cb0-ab80-f1bfd2da916a",
   "metadata": {},
   "source": [
    "### Classification\n",
    "\n",
    "Classification is a type of supervised learning in machine learning where the goal is to assign a label or category to a given input based on its features. The model is trained on a labeled dataset to predict the label of new, unseen data."
   ]
  },
  {
   "cell_type": "markdown",
   "id": "8ebb4313-9783-4e87-980c-02aed384faf5",
   "metadata": {},
   "source": [
    "#### Toy dataset"
   ]
  },
  {
   "cell_type": "code",
   "execution_count": null,
   "id": "0233eb53-7735-4412-9f62-300f4f70e916",
   "metadata": {},
   "outputs": [],
   "source": [
    "from sklearn.datasets import load_iris # we will use this to get our dataset\n",
    "from sklearn.ensemble import RandomForestClassifier\n",
    "from sklearn.metrics import accuracy_score, classification_report, confusion_matrix\n",
    "import seaborn as sns"
   ]
  },
  {
   "cell_type": "markdown",
   "id": "c7826cc8-fda7-4bc9-a604-ef02368cd253",
   "metadata": {},
   "source": [
    "Let's load our dataset:"
   ]
  },
  {
   "cell_type": "code",
   "execution_count": null,
   "id": "18687163-d3b8-470e-84e6-e389e0ba03ea",
   "metadata": {},
   "outputs": [],
   "source": [
    "iris = load_iris()\n",
    "X = iris.data  # features (sepal length, sepal width, petal length, petal width)\n",
    "y = iris.target  # labels (0 = setosa, 1 = versicolor, 2 = virginica)"
   ]
  },
  {
   "cell_type": "markdown",
   "id": "cb37fa0d-397a-45fa-8977-8d8bc125d5ae",
   "metadata": {},
   "source": [
    "Let's do some data exploration:"
   ]
  },
  {
   "cell_type": "code",
   "execution_count": null,
   "id": "474d182a-24e4-4328-93ce-761a65c07066",
   "metadata": {},
   "outputs": [],
   "source": [
    "df = pd.DataFrame(data=iris.data, columns=iris.feature_names)\n",
    "df['target'] = iris.target\n",
    "df['target'] = df['target'].map({0: 'setosa', 1: 'versicolor', 2: 'virginica'})"
   ]
  },
  {
   "cell_type": "code",
   "execution_count": null,
   "id": "53c46f81-08dc-46bd-9e94-759bb81fb55d",
   "metadata": {},
   "outputs": [],
   "source": [
    "df.head() # prints the first N rows of the dataset (default = 5)"
   ]
  },
  {
   "cell_type": "code",
   "execution_count": null,
   "id": "d26f2af2-62ca-42aa-beba-678d844a8b28",
   "metadata": {},
   "outputs": [],
   "source": [
    "df.describe() # summary statistics for each column"
   ]
  },
  {
   "cell_type": "code",
   "execution_count": null,
   "id": "3285e44e-cb72-458a-ab6d-23f196c8f9c6",
   "metadata": {},
   "outputs": [],
   "source": [
    "df.info() # some useful general info"
   ]
  },
  {
   "cell_type": "markdown",
   "id": "d458b869-ddf9-483c-b598-32cb0aee9e40",
   "metadata": {},
   "source": [
    "We then split the data into a training (80%) and test (20%) set:"
   ]
  },
  {
   "cell_type": "code",
   "execution_count": null,
   "id": "47b03ad7-89ec-4aa9-90fc-1a4e1088c95b",
   "metadata": {},
   "outputs": [],
   "source": [
    "X_train, X_test, y_train, y_test = train_test_split(X, y, test_size=0.2, random_state=42)"
   ]
  },
  {
   "cell_type": "markdown",
   "id": "3172177e-ae1e-440d-a006-8e37b9a5f2e0",
   "metadata": {},
   "source": [
    "Let's train our classifier:"
   ]
  },
  {
   "cell_type": "code",
   "execution_count": null,
   "id": "b9c30869-04f0-4884-aca6-2605b351c1d7",
   "metadata": {},
   "outputs": [],
   "source": [
    "clf = RandomForestClassifier(n_estimators=5, random_state=42)\n",
    "clf.fit(X_train, y_train)"
   ]
  },
  {
   "cell_type": "markdown",
   "id": "867b110e-b4d8-4b7f-b2c5-0b1388ce7987",
   "metadata": {},
   "source": [
    "Once it is trained, we predit the label (y) on the test set that we have set aside:"
   ]
  },
  {
   "cell_type": "code",
   "execution_count": null,
   "id": "9321142d-2ed1-4a27-a141-4205be133109",
   "metadata": {},
   "outputs": [],
   "source": [
    "y_pred = clf.predict(X_test)"
   ]
  },
  {
   "cell_type": "markdown",
   "id": "dcc26396-e250-4c17-9161-b11088c05679",
   "metadata": {},
   "source": [
    "We can see a classification report to see how our classifier performed:"
   ]
  },
  {
   "cell_type": "code",
   "execution_count": null,
   "id": "85d96897-78a2-49f5-a0cf-61fb70b154f2",
   "metadata": {},
   "outputs": [],
   "source": [
    "print(classification_report(y_test, y_pred, target_names=iris.target_names))"
   ]
  },
  {
   "cell_type": "markdown",
   "id": "ee7384b0-53d0-42dc-bce5-8b16396f3ddc",
   "metadata": {},
   "source": [
    "**Discuss with your neighbour:** what do you think about the performance of this classifier?"
   ]
  },
  {
   "cell_type": "markdown",
   "id": "f97d9989-9b05-4932-8792-68202d8ac8c2",
   "metadata": {},
   "source": [
    "It is also very useful to look at the confusion matrix:"
   ]
  },
  {
   "cell_type": "code",
   "execution_count": null,
   "id": "35dbc343-9456-4bc5-a3de-11a44f734453",
   "metadata": {},
   "outputs": [],
   "source": [
    "cm = confusion_matrix(y_test, y_pred)"
   ]
  },
  {
   "cell_type": "code",
   "execution_count": null,
   "id": "5ada57fb-3309-4c4b-9b72-f841156f6eca",
   "metadata": {},
   "outputs": [],
   "source": [
    "plt.figure(figsize=(6, 4))\n",
    "sns.heatmap(cm, annot=True, cmap='Blues', fmt='d', xticklabels=iris.target_names, yticklabels=iris.target_names)\n",
    "plt.xlabel('Predicted')\n",
    "plt.ylabel('True')\n",
    "plt.title('Confusion Matrix')\n",
    "plt.show()"
   ]
  },
  {
   "cell_type": "markdown",
   "id": "338ebbbb-d20c-434b-92fe-075218625e3c",
   "metadata": {},
   "source": [
    "**To do:** Change the number of estimators (trees) and see how it changes the classification report and the confusion matrix.\n",
    "\n",
    "**Discuss with your neighbour:** What can you conclude from this? "
   ]
  },
  {
   "cell_type": "markdown",
   "id": "96247c52-cb03-4a39-adb2-fcb35954bcbb",
   "metadata": {},
   "source": [
    "We can also see how important the features are:"
   ]
  },
  {
   "cell_type": "code",
   "execution_count": null,
   "id": "e779e3c3-8ecb-40e8-a0a6-e8a17dbe6b68",
   "metadata": {},
   "outputs": [],
   "source": [
    "importances = clf.feature_importances_\n",
    "feature_names = iris.feature_names"
   ]
  },
  {
   "cell_type": "code",
   "execution_count": null,
   "id": "51b83651-515c-4853-add5-bef8f2dd00fc",
   "metadata": {},
   "outputs": [],
   "source": [
    "plt.figure(figsize=(8, 5))\n",
    "plt.barh(feature_names, importances)\n",
    "plt.xlabel('Importance')\n",
    "plt.title('Feature importance')\n",
    "plt.show()"
   ]
  },
  {
   "cell_type": "markdown",
   "id": "4959744c-0748-42bf-b1e8-76aa796736de",
   "metadata": {},
   "source": [
    "**Discuss with your neighbour:** What conclusion can you make from the feature importance? In your opinion, would the classifier have performed the same if certain features were removed?"
   ]
  },
  {
   "cell_type": "markdown",
   "id": "fe4a9e15-dfbd-4146-978b-1b357881b757",
   "metadata": {},
   "source": [
    "#### Variable star dataset"
   ]
  },
  {
   "cell_type": "markdown",
   "id": "1b4b1181-46ad-4a10-b1e9-1d6f4f9dc601",
   "metadata": {},
   "source": [
    "##### Helper functions"
   ]
  },
  {
   "cell_type": "markdown",
   "id": "f21cb8a0-bbe7-4e0b-a1fc-d90f8d0f5fd2",
   "metadata": {},
   "source": [
    "Let's first define some functions that will be useful for us:"
   ]
  },
  {
   "cell_type": "code",
   "execution_count": null,
   "id": "1bbf4dc8-f0de-4895-9dd9-a2755d9adb00",
   "metadata": {},
   "outputs": [],
   "source": [
    "from scipy.ndimage import gaussian_filter1d\n",
    "\n",
    "import lightkurve as lk\n",
    "from astropy.timeseries import LombScargle"
   ]
  },
  {
   "cell_type": "code",
   "execution_count": null,
   "id": "b7b3244a-d310-4c44-b0ed-645d43dd64dc",
   "metadata": {},
   "outputs": [],
   "source": [
    "def smooth_time_series(time_series, sigma):\n",
    "    '''\n",
    "    This function applies Gaussian smoothing to a time series.\n",
    "    Input: time_series (a series of data points in time order), sigma (width of the filter).\n",
    "    Output: smoothed time series.\n",
    "    '''\n",
    "    smoothed_series = gaussian_filter1d(time_series, sigma=sigma, mode='nearest')\n",
    "    \n",
    "    return smoothed_series"
   ]
  },
  {
   "cell_type": "code",
   "execution_count": null,
   "id": "31c6b3e1-58df-4cb3-8ffd-7d54cd3df24a",
   "metadata": {},
   "outputs": [],
   "source": [
    "def get_random_row(df):\n",
    "    '''\n",
    "    This gets a random row from a dataframe and returns TIC, Sector, and Class column content.\n",
    "    Input: df (dataframe with extracted features).\n",
    "    Output: TIC (TESS id of a star), Sector (TESS sector), Class (label).\n",
    "    '''\n",
    "    random_row = df.sample(n=1).iloc[0]\n",
    "\n",
    "    return random_row['TIC'], random_row['Sector'], random_row['Class']"
   ]
  },
  {
   "cell_type": "code",
   "execution_count": null,
   "id": "b7d453c6-b5cc-4b8a-bd4c-a2b07c5b62f6",
   "metadata": {},
   "outputs": [],
   "source": [
    "def extract_light_curve(tic_id, sector, science_product='QLP'):\n",
    "    '''\n",
    "    This function extracts a QLP light curve from a specific sector.\n",
    "    Input: tic_id (TESS id of a star), sector (TESS sector), science_product (light curve pipeline).\n",
    "    Output: a search result containing a light curve.\n",
    "    '''\n",
    "    search = lk.search_lightcurve(f'TIC {tic_id}', author=science_product)\n",
    "    light_curve = search[search.mission == f'TESS Sector {sector}']\n",
    "\n",
    "    return light_curve"
   ]
  },
  {
   "cell_type": "code",
   "execution_count": null,
   "id": "15f8e84b-c750-4bb9-b0ad-e1571ace049f",
   "metadata": {},
   "outputs": [],
   "source": [
    "def preprocess_light_curve(tic_id, sector, science_product='QLP', sigma=61):\n",
    "    '''\n",
    "    This function preprocesses light curve to improve the quality of the data.\n",
    "    Input: tic_id (TESS id of a star), sector (TESS sector), science_product (light curve pipeline), sigma (width of the filter).\n",
    "    Output: time and flux after applying TESS quality flags, removing outliers, and smoothing with a Gaussian filter.\n",
    "    '''\n",
    "    lc = extract_light_curve(tic_id, sector, science_product=science_product)\n",
    "    \n",
    "    if lc is None or len(lc) == 0:\n",
    "        print(f'No light curve available for TIC {tic_id} in sector {sector}.')\n",
    "        return None, None \n",
    "\n",
    "    light_curve = lc[0].download()\n",
    "    \n",
    "    if light_curve is None:\n",
    "        print(f'Download failed for TIC {tic_id}, sector {sector}.')\n",
    "        return None, None\n",
    "\n",
    "    time = light_curve['time'].value\n",
    "    flux = light_curve['sap_flux'].value\n",
    "\n",
    "    # step one: applying TESS quality flags -> low-quality data points are removed\n",
    "    quality_mask = light_curve.quality\n",
    "    good_quality_mask = (quality_mask == 0)\n",
    "    \n",
    "    time = time[good_quality_mask]\n",
    "    flux = flux[good_quality_mask]\n",
    "\n",
    "    # step two: removing outliers\n",
    "    flux_mean = np.mean(flux)\n",
    "    flux_std = np.std(flux)\n",
    "    \n",
    "    time_no_outl = time[np.abs(flux - flux_mean) < 10 * flux_std]\n",
    "    flux_no_outl = flux[np.abs(flux - flux_mean) < 10 * flux_std]\n",
    "\n",
    "    # step three: subtracting a Gaussian smoothed time series to remove long-period instrumental trends\n",
    "    smoothed = smooth_time_series(flux_no_outl, sigma=sigma)\n",
    "    smoothed_flux = flux_no_outl[:len(smoothed)] - smoothed \n",
    "    smoothed_time = time_no_outl[:len(smoothed_flux)]\n",
    "\n",
    "    smoothed_flux += np.mean(flux_no_outl)\n",
    "\n",
    "    return smoothed_time, smoothed_flux"
   ]
  },
  {
   "cell_type": "code",
   "execution_count": null,
   "id": "15ba708e-abb3-4e2c-989e-66c174dee7e3",
   "metadata": {},
   "outputs": [],
   "source": [
    "def plot_light_curve(tic_id, sector, science_product='QLP', sigma=61):\n",
    "    '''\n",
    "    This function plots a preprocessed light curve.\n",
    "    Input: tic_id (TESS id of a star), sector (TESS sector), science_product (light curve pipeline), sigma (width of the filter).\n",
    "    Output: none (this function is a process, does not return anything).\n",
    "    '''\n",
    "    time, flux = preprocess_light_curve(tic_id, sector, science_product=science_product, sigma=sigma)\n",
    "\n",
    "    fig, ax = plt.subplots(figsize=(18, 4))\n",
    "    \n",
    "    ax.scatter(time, flux, color='black', s=2, label='Preprocessed light curve')\n",
    "    ax.set_xlabel('Time [d]', fontsize=12)\n",
    "    ax.set_ylabel('Normalized Flux', fontsize=12)\n",
    "    ax.legend(fontsize=12, loc='best') \n",
    "\n",
    "    fig.suptitle(f'Light Curve for TIC {tic_id}, Sector {sector}', fontsize=14)\n",
    "    \n",
    "    plt.tight_layout()\n",
    "    plt.show()"
   ]
  },
  {
   "cell_type": "code",
   "execution_count": null,
   "id": "35ad6350-b731-4520-8d8b-7bd648224010",
   "metadata": {},
   "outputs": [],
   "source": [
    "def compute_periodogram(tic_id, sector, science_product='QLP', sigma=61):\n",
    "    '''\n",
    "    This function computes a Lomb Scargle periodogram for a light curve.\n",
    "    Input: tic_id (TESS id of a star), sector (TESS sector), science_product (light curve pipeline), sigma (width of the filter).\n",
    "    Output: Lomb Scargle periodogram.\n",
    "    '''\n",
    "    smoothed_time, smoothed_flux = preprocess_light_curve(tic_id, sector, science_product=science_product, sigma=sigma)\n",
    "\n",
    "    light_curve = lk.LightCurve(time=smoothed_time, flux=smoothed_flux)\n",
    "    periodogram = light_curve.normalize(unit='ppm').to_periodogram(method='lombscargle', normalization='amplitude')\n",
    "\n",
    "    return periodogram"
   ]
  },
  {
   "cell_type": "code",
   "execution_count": null,
   "id": "d72cd299-2198-4117-8dce-03496bc66680",
   "metadata": {},
   "outputs": [],
   "source": [
    "def plot_periodogram(tic_id, sector, science_product='QLP', sigma=61, features=None):\n",
    "    '''\n",
    "    This function plots a periodogram with (optionally) extracted frequencies.\n",
    "    Input: tic_id (TESS id of a star), sector (TESS sector), science_product (light curve pipeline), sigma (width of the filter),\n",
    "        features (dataframe with extracted features).\n",
    "    Output: none (this function is a process, does not return anything).\n",
    "    '''\n",
    "    periodogram = compute_periodogram(tic_id, sector, science_product=science_product, sigma=sigma)\n",
    "\n",
    "    fig, ax = plt.subplots(figsize=(18, 4))\n",
    "    periodogram.plot(ax=ax, color='blue', label='Periodogram')\n",
    "\n",
    "    ax.set_xlabel('Frequency [1/d]', fontsize=12)\n",
    "    ax.set_ylabel('Power [ppm]', fontsize=12)\n",
    "\n",
    "    if features is not None and not features.empty:\n",
    "        p = 0\n",
    "        g = 0\n",
    "\n",
    "        filtered_row = features[(features[\"TIC\"] == tic_id) & (features[\"Sector\"] == sector)]\n",
    "    \n",
    "        if not filtered_row.empty:\n",
    "            periods = filtered_row[['PeriodLS', 'PeriodLS2', 'PeriodLS3']].values.flatten().tolist()\n",
    "        else:\n",
    "            periods = []\n",
    "\n",
    "        for period in periods:\n",
    "            if period > 0:\n",
    "                frequency = 1 / period\n",
    "                if period <= 0.3:\n",
    "                    if p == 0:\n",
    "                        ax.axvline(x=frequency, linestyle='--', color='green', alpha=0.3, label='Extracted peak ≤ 0.3 [d]')\n",
    "                    else:\n",
    "                        ax.axvline(x=frequency, linestyle='--', color='green', alpha=0.3)\n",
    "                    p += 1\n",
    "                else:\n",
    "                    if g == 0:\n",
    "                        ax.axvline(x=frequency, linestyle='--', color='purple', alpha=0.3, label='Extracted peak > 0.3 [d]')\n",
    "                    else:\n",
    "                        ax.axvline(x=frequency, linestyle='--', color='purple', alpha=0.3)\n",
    "                    g += 1 \n",
    "\n",
    "    fig.suptitle(f'Periodogram for TIC {tic_id}, Sector {sector}', fontsize=14)\n",
    "\n",
    "    ax.set_xlim(0, 70)\n",
    "    ax.legend(fontsize=12, loc='best') \n",
    "\n",
    "    plt.tight_layout()\n",
    "    plt.show()"
   ]
  },
  {
   "cell_type": "code",
   "execution_count": null,
   "id": "34fa23cb-3fe3-4444-9315-ea601d46f0c5",
   "metadata": {},
   "outputs": [],
   "source": [
    "def plot_lc_and_pd(tic_id, sector, science_product='QLP', sigma=61, zoom=False):\n",
    "    '''\n",
    "    This function plots a light curve, a periodogram, and (optionally) a zoomed-in periodogram on low-frequency regime.\n",
    "    Input: tic_id (TESS id of a star), sector (TESS sector), science_product (light curve pipeline), sigma (width of the filter),\n",
    "        zoom (True -> plot zoomed-in version, False -> do not plot).\n",
    "    Output: none (this function is a process, does not return anything).\n",
    "\n",
    "    Note that this function will only mark the dominant variability instead of 3 extracted peaks from the dataframe.\n",
    "    '''\n",
    "    smoothed_time, smoothed_flux = preprocess_light_curve(tic_id, sector, science_product=science_product, sigma=sigma)\n",
    "    periodogram = compute_periodogram(tic_id, sector, science_product=science_product, sigma=sigma)\n",
    "    max_frequency = periodogram.frequency[np.argmax(periodogram.power)]\n",
    "\n",
    "    if zoom:\n",
    "        fig, axs = plt.subplots(3, 1, figsize=(18, 12))\n",
    "    else:\n",
    "        fig, axs = plt.subplots(2, 1, figsize=(18, 8))\n",
    "\n",
    "    axs[0].scatter(smoothed_time, smoothed_flux, color='black', s=2)\n",
    "    axs[0].set_xlabel('Time [d]', fontsize=12)\n",
    "    axs[0].set_ylabel('Detrended Flux', fontsize=12)\n",
    "    axs[0].set_title(f'Light curve for TIC {tic_id}, Sector {sector}', fontsize=14)\n",
    "\n",
    "    periodogram.plot(ax=axs[1], color='blue')\n",
    "    axs[1].set_title(f'Periodogram (full) | f1: {max_frequency:.4f} | p1: {1/max_frequency:.4f}', fontsize=14)\n",
    "    axs[1].axvline(x=max_frequency.value, linestyle='--', color='orange', alpha=0.5)\n",
    "    axs[1].set_xlim(0, 70)\n",
    "\n",
    "    if zoom:\n",
    "        periodogram.plot(ax=axs[2], color='blue')\n",
    "        axs[2].set_title('Periodogram (zoomed)', fontsize=14)\n",
    "        axs[2].axvline(x=max_frequency.value, linestyle='--', color='orange', alpha=0.5)\n",
    "        axs[2].set_xlim(0, 5)\n",
    "\n",
    "    plt.tight_layout()\n",
    "    plt.show()"
   ]
  },
  {
   "cell_type": "markdown",
   "id": "99a00e8b-5bc1-4f04-8392-f8bc97468118",
   "metadata": {},
   "source": [
    "##### Exploring the dataset"
   ]
  },
  {
   "cell_type": "code",
   "execution_count": null,
   "id": "aea675ad-1137-488c-89f2-63276b91c186",
   "metadata": {},
   "outputs": [],
   "source": [
    "df = pd.read_csv('session6_tda.csv')\n",
    "df.head()"
   ]
  },
  {
   "cell_type": "code",
   "execution_count": null,
   "id": "94d2479b-c2f7-4476-a9b0-e94970d369c4",
   "metadata": {},
   "outputs": [],
   "source": [
    "df.describe()"
   ]
  },
  {
   "cell_type": "code",
   "execution_count": null,
   "id": "40ba50e0-d3f8-4479-af10-4a5ff025f5c6",
   "metadata": {},
   "outputs": [],
   "source": [
    "df.info()"
   ]
  },
  {
   "cell_type": "markdown",
   "id": "a7b91126-b8c9-45d1-b834-79b8ee1e0959",
   "metadata": {},
   "source": [
    "Let's get a random row from the dataframe:"
   ]
  },
  {
   "cell_type": "code",
   "execution_count": null,
   "id": "a8b1b96c-8e48-470e-8345-5fa975d97f53",
   "metadata": {},
   "outputs": [],
   "source": [
    "tic, sector, label = get_random_row(df)"
   ]
  },
  {
   "cell_type": "code",
   "execution_count": null,
   "id": "d283d04d-17a8-435b-86a1-3ba8ce7834ca",
   "metadata": {},
   "outputs": [],
   "source": [
    "tic, sector, label"
   ]
  },
  {
   "cell_type": "markdown",
   "id": "18b426b9-818b-428d-aec5-79284ea74b2c",
   "metadata": {},
   "source": [
    "With that we can now take a look at the light curve of this object:"
   ]
  },
  {
   "cell_type": "code",
   "execution_count": null,
   "id": "33c5d439-76a0-40e0-8f2a-b1ec347f9c67",
   "metadata": {},
   "outputs": [],
   "source": [
    "plot_light_curve(tic, sector)"
   ]
  },
  {
   "cell_type": "markdown",
   "id": "941a5f75-1a58-41dc-9bd1-bca310c2c6ff",
   "metadata": {},
   "source": [
    "We can of course also use this function for a non-random object if we specify the TIC and Sector manually:"
   ]
  },
  {
   "cell_type": "code",
   "execution_count": null,
   "id": "44a79d7a-d969-4956-87f5-bdf714995b58",
   "metadata": {},
   "outputs": [],
   "source": [
    "plot_light_curve(121788685, 40)"
   ]
  },
  {
   "cell_type": "markdown",
   "id": "a016c4b5-bdcb-4337-bed9-8ae6dcfd765d",
   "metadata": {},
   "source": [
    "The Fourier transformation of our random object looks like this:"
   ]
  },
  {
   "cell_type": "code",
   "execution_count": null,
   "id": "14220d02-ce12-45d4-8852-31f989efa07b",
   "metadata": {},
   "outputs": [],
   "source": [
    "plot_periodogram(tic, sector, features=df) # remove features=df if you don't want to see extracted periods"
   ]
  },
  {
   "cell_type": "markdown",
   "id": "cd48a786-e813-4aba-9ae7-b46c7fc119d1",
   "metadata": {},
   "source": [
    "If you want to look at both the light curve and periodogram, you can do it like this:"
   ]
  },
  {
   "cell_type": "code",
   "execution_count": null,
   "id": "31ef6d54-1ec1-4e5a-8ae1-e9ddb3c08773",
   "metadata": {},
   "outputs": [],
   "source": [
    "plot_lc_and_pd(tic, sector)"
   ]
  },
  {
   "cell_type": "markdown",
   "id": "6da9f5ee-bf76-455b-b9da-2205aca09f50",
   "metadata": {},
   "source": [
    "It is also possible to zoom in on the low frequency regime - this is very useful for some classes but not so much for others:"
   ]
  },
  {
   "cell_type": "code",
   "execution_count": null,
   "id": "2c05ccdc-3b86-4711-987d-f6229856cdb4",
   "metadata": {},
   "outputs": [],
   "source": [
    "plot_lc_and_pd(tic, sector, zoom=True)"
   ]
  },
  {
   "cell_type": "markdown",
   "id": "9e56ab0c-2445-4a9e-ac19-8ac9f943a75d",
   "metadata": {},
   "source": [
    "**To do:** Try running these cells with with different random objects a few times so look at different stars.\n",
    "\n",
    "**Discuss with your neighbour:** Have you noticed for which classes the zoom-in is more useful?"
   ]
  },
  {
   "cell_type": "markdown",
   "id": "c9b2afde-0ba9-4670-bc1e-77d2100bf4ea",
   "metadata": {},
   "source": [
    "##### Classification"
   ]
  },
  {
   "cell_type": "markdown",
   "id": "54606975-af81-4ece-9f4f-6880f042be18",
   "metadata": {},
   "source": [
    "Let's classify our dataset with a RF classifier:"
   ]
  },
  {
   "cell_type": "code",
   "execution_count": null,
   "id": "7216e894-8f43-46e2-95ec-66ad20239cb3",
   "metadata": {},
   "outputs": [],
   "source": [
    "X = df.drop(columns=['TIC', 'Sector', 'Class'])\n",
    "y = df['Class']"
   ]
  },
  {
   "cell_type": "code",
   "execution_count": null,
   "id": "583deaf8-5aab-42e8-a013-a590bc5e2243",
   "metadata": {},
   "outputs": [],
   "source": [
    "X_train, X_test, y_train, y_test = train_test_split(X, y, test_size=0.2, random_state=42)"
   ]
  },
  {
   "cell_type": "code",
   "execution_count": null,
   "id": "dd1b54f4-c621-469f-9846-e101308b95c0",
   "metadata": {},
   "outputs": [],
   "source": [
    "clf = RandomForestClassifier(n_estimators=100, random_state=42)\n",
    "clf.fit(X_train, y_train)"
   ]
  },
  {
   "cell_type": "code",
   "execution_count": null,
   "id": "fb09cd36-420a-4aea-9124-d375179bdb9e",
   "metadata": {},
   "outputs": [],
   "source": [
    "y_pred = clf.predict(X_test)"
   ]
  },
  {
   "cell_type": "code",
   "execution_count": null,
   "id": "8f32f5c7-fafb-48fa-982d-63eb775bc1f5",
   "metadata": {},
   "outputs": [],
   "source": [
    "print(classification_report(y_test, y_pred))"
   ]
  },
  {
   "cell_type": "code",
   "execution_count": null,
   "id": "a4001ea2-15e4-4b25-b74a-f36f065a569c",
   "metadata": {},
   "outputs": [],
   "source": [
    "cm = confusion_matrix(y_test, y_pred)"
   ]
  },
  {
   "cell_type": "code",
   "execution_count": null,
   "id": "dc4a5a28-12fb-44b5-87bc-4d77a5f8cc77",
   "metadata": {},
   "outputs": [],
   "source": [
    "plt.figure(figsize=(8, 6))\n",
    "sns.heatmap(cm, annot=True, cmap='Blues', fmt='d', xticklabels=clf.classes_, yticklabels=clf.classes_)\n",
    "plt.xlabel('Predicted')\n",
    "plt.ylabel('True')\n",
    "plt.title('Confusion Matrix')\n",
    "plt.show()"
   ]
  },
  {
   "cell_type": "markdown",
   "id": "7f6167d6-98da-4ef3-9ce8-31f73e7db883",
   "metadata": {},
   "source": [
    "This might be a bit difficult to interpret since we have different number of objects in our classes. Let's look at the normalized version of the confusion matrix:"
   ]
  },
  {
   "cell_type": "code",
   "execution_count": null,
   "id": "77b7ed81-8d51-4cbf-ae08-911bbdf68f64",
   "metadata": {},
   "outputs": [],
   "source": [
    "cm_normalized = cm.astype('float') / cm.sum(axis=1)[:, np.newaxis]"
   ]
  },
  {
   "cell_type": "code",
   "execution_count": null,
   "id": "b77307c1-f407-435c-a3e2-2020ca332d67",
   "metadata": {},
   "outputs": [],
   "source": [
    "plt.figure(figsize=(8, 6))\n",
    "sns.heatmap(cm_normalized, annot=True, cmap='Blues', fmt='.2f', xticklabels=clf.classes_, yticklabels=clf.classes_)\n",
    "plt.xlabel('Predicted')\n",
    "plt.ylabel('True')\n",
    "plt.title('Normalized Confusion Matrix')\n",
    "# plt.savefig('confusion_matrix.pdf')\n",
    "plt.show()"
   ]
  },
  {
   "cell_type": "markdown",
   "id": "c6a9c4b3-a927-43d7-b6d3-1411890fa15f",
   "metadata": {},
   "source": [
    "**Put in the report:** This confusion matrix.\n",
    "\n",
    "**Discuss with your neighbour (put in the report):** Why do you think rrlyr_cepheid class is not retrieved well?\n",
    "\n",
    "**Discuss with your neighbour (put in the report):** Which other two classes, other than with rrlyd_cepheid (!), are most-heavily confused?"
   ]
  },
  {
   "cell_type": "code",
   "execution_count": null,
   "id": "a3d2a312-b22c-4de3-a55e-eacd13c23fef",
   "metadata": {},
   "outputs": [],
   "source": [
    "importances = clf.feature_importances_\n",
    "feature_names = X.columns"
   ]
  },
  {
   "cell_type": "code",
   "execution_count": null,
   "id": "f241f1d2-5f43-4903-9617-a4f792f760fe",
   "metadata": {},
   "outputs": [],
   "source": [
    "plt.figure(figsize=(8, 13))\n",
    "plt.barh(feature_names, importances)\n",
    "plt.xlabel('Importance')\n",
    "plt.title('Feature importance')\n",
    "plt.show()"
   ]
  },
  {
   "cell_type": "markdown",
   "id": "850a9ef5-3710-41da-b1a9-f98a8b128f48",
   "metadata": {},
   "source": [
    "**Discuss with your neighbour:** What are the most important features? Do you think it makes sense given that it is a dataset of variable stars? The description of features here can help you answer this question: https://feets.readthedocs.io/en/latest/tutorial.html#The-Features\n",
    "\n",
    "**Discuss with your neighbour:** What do you think about the performance of the classifier as a whole?"
   ]
  },
  {
   "cell_type": "markdown",
   "id": "0b2bb7fc-d062-44e1-8d9d-92106621ba6c",
   "metadata": {},
   "source": [
    "**To do for the report:** Plot the distribution of PeriodLS, PeriodLS2, and PeriodLS3 features for all classes (hint: an overlapping histogram with transparent fill works best for this) and discuss. For better readability, you can put different classes on different subplots."
   ]
  },
  {
   "cell_type": "code",
   "execution_count": null,
   "id": "c25dc8ab-58ae-40f7-adad-1e8b2b4481c4",
   "metadata": {},
   "outputs": [],
   "source": []
  },
  {
   "cell_type": "markdown",
   "id": "c6a1b880-8037-4452-a255-72803f307303",
   "metadata": {},
   "source": [
    "**To do for the report:** Randomly sample 5 objects from each of these two classes, plot their light curves and periodograms and discuss."
   ]
  },
  {
   "cell_type": "code",
   "execution_count": null,
   "id": "e2742f56-15f5-4c27-9f65-9f7083e8524c",
   "metadata": {},
   "outputs": [],
   "source": []
  },
  {
   "cell_type": "code",
   "execution_count": null,
   "id": "035648f2-b6d6-4367-b9f9-28a1023b02d8",
   "metadata": {},
   "outputs": [],
   "source": []
  },
  {
   "cell_type": "code",
   "execution_count": null,
   "id": "0a734683-259f-4c8b-ac0e-467624a3a0b7",
   "metadata": {},
   "outputs": [],
   "source": []
  },
  {
   "cell_type": "code",
   "execution_count": null,
   "id": "c2391a1f-7cae-4822-b68f-53ce0439c6ed",
   "metadata": {},
   "outputs": [],
   "source": []
  }
 ],
 "metadata": {
  "kernelspec": {
   "display_name": "Python 3 (ipykernel)",
   "language": "python",
   "name": "python3"
  },
  "language_info": {
   "codemirror_mode": {
    "name": "ipython",
    "version": 3
   },
   "file_extension": ".py",
   "mimetype": "text/x-python",
   "name": "python",
   "nbconvert_exporter": "python",
   "pygments_lexer": "ipython3",
   "version": "3.12.7"
  }
 },
 "nbformat": 4,
 "nbformat_minor": 5
}
