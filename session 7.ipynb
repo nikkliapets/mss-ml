{
 "cells": [
  {
   "cell_type": "markdown",
   "id": "ae7b7371-6858-46c5-b522-bdd2b1462bbf",
   "metadata": {},
   "source": [
    "# Downstream Exploitation of Space Data\n",
    "## Session 7: Unsupervised Machine Learning\n",
    "\n",
    "### Learning Objectives\n",
    "\n",
    "You will: \n",
    "* know the type of problems unsupervised machine learning solves and see some examples\n",
    "* be able to perform dimensionality reduction on a dataset\n",
    "* be able to perform unsupervised clustering on a dataset\n",
    "* get familiar with a learning problem of clustering variable stars"
   ]
  },
  {
   "cell_type": "markdown",
   "id": "945f2060-286c-477d-a476-86a43987ee8a",
   "metadata": {},
   "source": [
    "### Dimensionality Reduction\n",
    "\n",
    "Dimensionality reduction is a learning problem in unsupervised learning that reduces the number of input features or variables in a dataset while retaining as much important information as possible."
   ]
  },
  {
   "cell_type": "markdown",
   "id": "2c5de6d9-ea82-4749-a25f-b10e28e6cfbb",
   "metadata": {},
   "source": [
    "Importing the libraries:"
   ]
  },
  {
   "cell_type": "code",
   "execution_count": null,
   "id": "f06e1c72-ce5b-4c62-98c0-f9f0cfd51c56",
   "metadata": {},
   "outputs": [],
   "source": [
    "import numpy as np\n",
    "import pandas as pd\n",
    "import matplotlib.pyplot as plt\n",
    "from sklearn.decomposition import PCA\n",
    "from sklearn.preprocessing import StandardScaler"
   ]
  },
  {
   "cell_type": "markdown",
   "id": "5545adbb-d9d6-45e7-8626-7be34961475f",
   "metadata": {},
   "source": [
    "Creating a dataset with two correlated features:"
   ]
  },
  {
   "cell_type": "code",
   "execution_count": null,
   "id": "035648f2-b6d6-4367-b9f9-28a1023b02d8",
   "metadata": {},
   "outputs": [],
   "source": [
    "np.random.seed(42)\n",
    "n_samples = 100"
   ]
  },
  {
   "cell_type": "code",
   "execution_count": null,
   "id": "0a734683-259f-4c8b-ac0e-467624a3a0b7",
   "metadata": {},
   "outputs": [],
   "source": [
    "x = np.random.rand(n_samples)\n",
    "y = 0.8 * x + 0.2 * np.random.rand(n_samples)"
   ]
  },
  {
   "cell_type": "code",
   "execution_count": null,
   "id": "c2391a1f-7cae-4822-b68f-53ce0439c6ed",
   "metadata": {},
   "outputs": [],
   "source": [
    "data = pd.DataFrame({'Feature 1': x, 'Feature 2': y})"
   ]
  },
  {
   "cell_type": "markdown",
   "id": "03e15604-7769-47ec-a132-75f2dce45d30",
   "metadata": {},
   "source": [
    "Standardizing the data:"
   ]
  },
  {
   "cell_type": "code",
   "execution_count": null,
   "id": "c08f41a8-b1c0-4e95-aeda-c19134c2af30",
   "metadata": {},
   "outputs": [],
   "source": [
    "scaler = StandardScaler()\n",
    "scaled_data = scaler.fit_transform(data)"
   ]
  },
  {
   "cell_type": "markdown",
   "id": "d7c22f52-f4d5-40f7-9007-b33d7b34b0ef",
   "metadata": {},
   "source": [
    "Applying the PCA:"
   ]
  },
  {
   "cell_type": "code",
   "execution_count": null,
   "id": "63b226f7-dfa9-49ba-9ba3-009aa90f9e9e",
   "metadata": {},
   "outputs": [],
   "source": [
    "pca = PCA(n_components=2)\n",
    "pca_result = pca.fit_transform(scaled_data)"
   ]
  },
  {
   "cell_type": "markdown",
   "id": "dd97a87f-dacc-4819-b166-7d05cf56ac21",
   "metadata": {},
   "source": [
    "Let's visualize both our original and 'pca'ed' data: "
   ]
  },
  {
   "cell_type": "code",
   "execution_count": null,
   "id": "41d97ad1-a89c-41c4-b75e-d7a29117a0f8",
   "metadata": {},
   "outputs": [],
   "source": [
    "plt.figure(figsize=(12, 5))\n",
    "\n",
    "plt.subplot(1, 2, 1) # the original dataset\n",
    "plt.scatter(scaled_data[:, 0], scaled_data[:, 1], alpha=0.7)\n",
    "plt.title('Original Data')\n",
    "plt.xlabel('Feature 1 (scaled)')\n",
    "plt.ylabel('Feature 2 (scaled)')\n",
    "plt.axhline(0, color='gray', linestyle='--', lw=1)\n",
    "plt.axvline(0, color='gray', linestyle='--', lw=1)\n",
    "\n",
    "plt.subplot(1, 2, 2) # the PCA-transformed dataset\n",
    "plt.scatter(pca_result[:, 0], pca_result[:, 1], alpha=0.7)\n",
    "plt.title('PCA Result')\n",
    "plt.xlabel('Principal Component 1')\n",
    "plt.ylabel('Principal Component 2')\n",
    "plt.axhline(0, color='gray', linestyle='--', lw=1)\n",
    "plt.axvline(0, color='gray', linestyle='--', lw=1)\n",
    "\n",
    "plt.tight_layout()\n",
    "plt.show()"
   ]
  },
  {
   "cell_type": "markdown",
   "id": "dfab6f52-23da-479f-bb75-acfcea73110f",
   "metadata": {},
   "source": [
    "Let's see how much each of the components explains variance in the data:"
   ]
  },
  {
   "cell_type": "code",
   "execution_count": null,
   "id": "84ad1288-48d5-4a75-827f-c713e5d24cf3",
   "metadata": {},
   "outputs": [],
   "source": [
    "explained_variance = pca.explained_variance_ratio_\n",
    "print(f'Explained variance by component 1: {explained_variance[0]:.2f}')\n",
    "print(f'Explained variance by component 2: {explained_variance[1]:.2f}')"
   ]
  },
  {
   "cell_type": "markdown",
   "id": "fb98b580-a735-4578-850e-08e7b9fc53e2",
   "metadata": {},
   "source": [
    "**Discuss with your neighbour:** Which component explains more variance in the data?"
   ]
  },
  {
   "cell_type": "markdown",
   "id": "ec826c98-8fb7-4a03-b943-5362ba5501e7",
   "metadata": {},
   "source": [
    "We can also see the contribution of each feature of each component:"
   ]
  },
  {
   "cell_type": "code",
   "execution_count": null,
   "id": "7fb67609-f28a-44da-92ca-0d232f0cb3d3",
   "metadata": {},
   "outputs": [],
   "source": [
    "components_df = pd.DataFrame(pca.components_, \n",
    "                             columns=['Feature 1', 'Feature 2'], \n",
    "                             index=['Component 1', 'Component 2'])\n",
    "\n",
    "print('\\nFeature contributions to each principal component:')\n",
    "print(components_df)"
   ]
  },
  {
   "cell_type": "markdown",
   "id": "914afd44-b3ac-46b6-8556-b2f5bebf3e72",
   "metadata": {},
   "source": [
    "**Discuss with your neighbour:** Why do you think the contributions in the second component are equal in magnitude but opposite in sign? (*Hint: think about how the PCA works.*)"
   ]
  },
  {
   "cell_type": "markdown",
   "id": "6c98e74e-cc39-4d75-8c2f-953ab6682725",
   "metadata": {},
   "source": [
    "### Clustering\n",
    "\n",
    "#### Toy Dataset"
   ]
  },
  {
   "cell_type": "code",
   "execution_count": null,
   "id": "f64d3d37-8b01-4c39-a52c-cb737868d0c7",
   "metadata": {},
   "outputs": [],
   "source": [
    "from sklearn.datasets import load_iris\n",
    "from sklearn.cluster import KMeans\n",
    "from sklearn.decomposition import PCA\n",
    "from sklearn.metrics import silhouette_score"
   ]
  },
  {
   "cell_type": "markdown",
   "id": "7b4ef1a1-1a20-4f09-9bc6-943a9d4e3cc9",
   "metadata": {},
   "source": [
    "Loading the iris dataset that we have seen before:"
   ]
  },
  {
   "cell_type": "code",
   "execution_count": null,
   "id": "9589db52-309c-42d4-abf2-1871a5ea2bf4",
   "metadata": {},
   "outputs": [],
   "source": [
    "iris = load_iris()\n",
    "X = iris.data\n",
    "y = iris.target\n",
    "feature_names = iris.feature_names"
   ]
  },
  {
   "cell_type": "markdown",
   "id": "05b94e36-ed5a-403b-89e7-ee34a279c51b",
   "metadata": {},
   "source": [
    "Standardizing the data:"
   ]
  },
  {
   "cell_type": "code",
   "execution_count": null,
   "id": "90f64029-3ac6-4bc3-b1f0-4880f3d69cbc",
   "metadata": {},
   "outputs": [],
   "source": [
    "scaler = StandardScaler()\n",
    "X_scaled = scaler.fit_transform(X)"
   ]
  },
  {
   "cell_type": "markdown",
   "id": "b246f9f7-2bcc-4da1-9457-40e32baaf1f5",
   "metadata": {},
   "source": [
    "Let's now apply k-means clustering to our data:"
   ]
  },
  {
   "cell_type": "code",
   "execution_count": null,
   "id": "49aa9576-b093-464e-9bfc-48d1d3185b08",
   "metadata": {},
   "outputs": [],
   "source": [
    "n_clusters = 3\n",
    "kmeans = KMeans(n_clusters=n_clusters, random_state=42, n_init='auto')\n",
    "labels = kmeans.fit_predict(X_scaled)"
   ]
  },
  {
   "cell_type": "markdown",
   "id": "9b0ec236-a0a5-47ec-bd20-6db4b38c8a6a",
   "metadata": {},
   "source": [
    "4D data is difficult to visualize so we can rescale it to 2D with a dimensionality reduction method:"
   ]
  },
  {
   "cell_type": "code",
   "execution_count": null,
   "id": "06f43736-d643-4032-bcb0-9d093715a65b",
   "metadata": {},
   "outputs": [],
   "source": [
    "pca = PCA(n_components=2)\n",
    "X_2D = pca.fit_transform(X_scaled)"
   ]
  },
  {
   "cell_type": "code",
   "execution_count": null,
   "id": "5c3b6208-849f-4457-b2a0-736f4f9227fa",
   "metadata": {},
   "outputs": [],
   "source": [
    "centers_2D = pca.transform(kmeans.cluster_centers_)"
   ]
  },
  {
   "cell_type": "markdown",
   "id": "00323651-7327-4a01-9862-73c2e497f546",
   "metadata": {},
   "source": [
    "Let's plot the data:"
   ]
  },
  {
   "cell_type": "code",
   "execution_count": null,
   "id": "5cbc803b-d804-4c96-a9ff-608e8b653215",
   "metadata": {},
   "outputs": [],
   "source": [
    "plt.figure(figsize=(10, 6))\n",
    "\n",
    "plt.scatter(X_2D[:, 0], X_2D[:, 1], c=labels, cmap='viridis', s=50, alpha=0.7, edgecolors='k')\n",
    "plt.scatter(centers_2D[:, 0], centers_2D[:, 1], c='red', s=20, marker='X', label='Centroids')\n",
    "\n",
    "plt.title('K-means Clustering on 4D Iris Data (Projected to 2D with PCA)')\n",
    "plt.xlabel('Principal Component 1')\n",
    "plt.ylabel('Principal Component 2')\n",
    "plt.legend()\n",
    "plt.grid()\n",
    "\n",
    "plt.show()"
   ]
  },
  {
   "cell_type": "markdown",
   "id": "4c69f471-e231-4bfc-94e4-c845df86b7e1",
   "metadata": {},
   "source": [
    "**Discuss with your neighbour:** Do you think clusters are well-separated? Note that here separate colors represent clusters assigned by our clustering algorithm, NOT the initial labels."
   ]
  },
  {
   "cell_type": "markdown",
   "id": "91e4f40f-c526-45fa-a6a8-ed084491d9a1",
   "metadata": {},
   "source": [
    "Given that we have true labels (NB: which is often not the case for unsupervised learning) we can compare our clustering with actual labels:"
   ]
  },
  {
   "cell_type": "code",
   "execution_count": null,
   "id": "0af6522d-9fbc-4a61-ae86-934918e578f0",
   "metadata": {},
   "outputs": [],
   "source": [
    "true_colors = plt.cm.Set1(y)\n",
    "cluster_colors = plt.cm.Paired(labels)"
   ]
  },
  {
   "cell_type": "code",
   "execution_count": null,
   "id": "a524b469-7233-4062-9083-c0e6d99cdbd6",
   "metadata": {},
   "outputs": [],
   "source": [
    "plt.figure(figsize=(10, 6))\n",
    "for i in range(X_2D.shape[0]):\n",
    "    plt.scatter(X_2D[i, 0], X_2D[i, 1], \n",
    "                color=cluster_colors[i], \n",
    "                edgecolors=true_colors[i],\n",
    "                s=50, alpha=0.8, linewidth=1)\n",
    "\n",
    "plt.scatter(centers_2D[:, 0], centers_2D[:, 1], \n",
    "            c='black', s=20, marker='X', label='Centroids')\n",
    "\n",
    "plt.title('K-means Clustering on 4D Iris Data (vs Original Labels)')\n",
    "plt.xlabel('Principal Component 1')\n",
    "plt.ylabel('Principal Component 2')\n",
    "plt.legend()\n",
    "plt.grid()\n",
    "plt.show()"
   ]
  },
  {
   "cell_type": "markdown",
   "id": "73a2a980-a82f-4112-8524-02f0939e0d64",
   "metadata": {},
   "source": [
    "**Discuss with your neighbour:** What do you think now?"
   ]
  },
  {
   "cell_type": "markdown",
   "id": "e2cd1f05-1455-49ba-8a2d-fd9e21950e85",
   "metadata": {},
   "source": [
    "We can also evaluate clustering quality:"
   ]
  },
  {
   "cell_type": "code",
   "execution_count": null,
   "id": "16ce2ec7-fba6-418a-8fb2-965e8a555d0f",
   "metadata": {},
   "outputs": [],
   "source": [
    "silhouette = silhouette_score(X_scaled, labels)\n",
    "print(f'Silhouette Score: {silhouette:.2f}')"
   ]
  },
  {
   "cell_type": "markdown",
   "id": "a1363d7f-b45c-4e6b-8b69-b12006a42e8b",
   "metadata": {},
   "source": [
    "**Discuss with your neighbour:** How would you evaluate the performance of this clustering as a whole?"
   ]
  },
  {
   "cell_type": "markdown",
   "id": "69298fe4-0b21-4eec-9cb6-1c40dd5f5230",
   "metadata": {},
   "source": [
    "#### Variable Star Dataset"
   ]
  },
  {
   "cell_type": "code",
   "execution_count": null,
   "id": "66867811-8e11-48b8-b901-956278c14b14",
   "metadata": {},
   "outputs": [],
   "source": [
    "pip install umap-learn"
   ]
  },
  {
   "cell_type": "code",
   "execution_count": null,
   "id": "8a2c209a-4c37-40e4-ae7b-21be1e93aaeb",
   "metadata": {},
   "outputs": [],
   "source": [
    "import umap.umap_ as umap\n",
    "import matplotlib.patches as mpatches\n",
    "from matplotlib.colors import ListedColormap"
   ]
  },
  {
   "cell_type": "markdown",
   "id": "32ad5d83-ac95-4666-b111-772c93b3afeb",
   "metadata": {},
   "source": [
    "Let's load the dataset from the previous session again:"
   ]
  },
  {
   "cell_type": "code",
   "execution_count": null,
   "id": "debf21ff-7bed-4e1b-bb7c-b6359451aa2a",
   "metadata": {},
   "outputs": [],
   "source": [
    "df = pd.read_csv('session6_tda.csv')\n",
    "df.head()"
   ]
  },
  {
   "cell_type": "markdown",
   "id": "7d150d03-2955-49a8-83c9-db826c4e5794",
   "metadata": {},
   "source": [
    "We drop all non-feature columns:"
   ]
  },
  {
   "cell_type": "code",
   "execution_count": null,
   "id": "a108b1a5-920f-4d12-9f26-fe062885ae14",
   "metadata": {},
   "outputs": [],
   "source": [
    "X = df.drop(columns=['Unnamed: 0', 'TIC', 'Sector', 'Class'])"
   ]
  },
  {
   "cell_type": "markdown",
   "id": "56471730-7cf8-43db-8ec2-f3f4a7905fd7",
   "metadata": {},
   "source": [
    "Then we standardize the data and apply clustering:"
   ]
  },
  {
   "cell_type": "code",
   "execution_count": null,
   "id": "584a7a89-08ec-43f4-91ee-6848592f7498",
   "metadata": {},
   "outputs": [],
   "source": [
    "scaler = StandardScaler()\n",
    "X_scaled = scaler.fit_transform(X.values.astype(np.float32))"
   ]
  },
  {
   "cell_type": "code",
   "execution_count": null,
   "id": "70b6118e-5596-4bea-9c25-99cdc7b96517",
   "metadata": {},
   "outputs": [],
   "source": [
    "n_clusters = 3\n",
    "kmeans = KMeans(n_clusters=n_clusters, random_state=42, n_init='auto')\n",
    "labels = kmeans.fit_predict(X_scaled)"
   ]
  },
  {
   "cell_type": "markdown",
   "id": "c6824536-1765-4ce3-b71c-030ba1e0d2ee",
   "metadata": {},
   "source": [
    "We have a multi-dimensional space that is impossible to visualise so we use another dimensionality reduction technique, UMAP:"
   ]
  },
  {
   "cell_type": "code",
   "execution_count": null,
   "id": "c4e4157f-7c6f-41c7-923a-9be45ff2ecdc",
   "metadata": {},
   "outputs": [],
   "source": [
    "reducer = umap.UMAP(n_components=2, n_neighbors=15, min_dist=0.1, random_state=42)\n",
    "X_umap = reducer.fit_transform(X_scaled)"
   ]
  },
  {
   "cell_type": "markdown",
   "id": "277c06d1-26a3-4c07-9733-3e2bb0399410",
   "metadata": {},
   "source": [
    "Let's now plot the clusters: "
   ]
  },
  {
   "cell_type": "code",
   "execution_count": null,
   "id": "52c003d7-f169-4029-9b2e-4a26c8f0a1c1",
   "metadata": {},
   "outputs": [],
   "source": [
    "plt.figure(figsize=(10, 6))\n",
    "plt.scatter(X_umap[:, 0], X_umap[:, 1], c=labels, cmap='viridis', s=20, alpha=0.8, edgecolors='k')\n",
    "plt.title('K-means Clustering with UMAP Projection')\n",
    "plt.xlabel('UMAP Component 1')\n",
    "plt.ylabel('UMAP Component 2')\n",
    "\n",
    "centers_umap = reducer.transform(kmeans.cluster_centers_)\n",
    "plt.scatter(centers_umap[:, 0], centers_umap[:, 1], c='red', s=50, marker='X', label='Centroids')\n",
    "\n",
    "plt.legend()\n",
    "plt.grid()\n",
    "plt.show()"
   ]
  },
  {
   "cell_type": "markdown",
   "id": "d012013a-615b-4d20-8f45-bbf546cd8cc8",
   "metadata": {},
   "source": [
    "Let's see how it corresponds to true labels:"
   ]
  },
  {
   "cell_type": "code",
   "execution_count": null,
   "id": "660a39b8-588e-44c7-b8af-fc14d4121583",
   "metadata": {},
   "outputs": [],
   "source": [
    "y = df['Class']"
   ]
  },
  {
   "cell_type": "code",
   "execution_count": null,
   "id": "76c7831d-dc69-4940-84fc-eeceb0226ad6",
   "metadata": {},
   "outputs": [],
   "source": [
    "cluster_cmap = ListedColormap(plt.cm.viridis(np.linspace(0, 1, n_clusters)))\n",
    "true_cmap = ListedColormap(plt.cm.inferno(np.linspace(0, 1, len(np.unique(y)))))"
   ]
  },
  {
   "cell_type": "code",
   "execution_count": null,
   "id": "1ffb81f9-8968-4a74-8393-8223ac01f128",
   "metadata": {},
   "outputs": [],
   "source": [
    "cluster_colors = cluster_cmap(labels)\n",
    "true_colors = true_cmap(pd.factorize(y)[0])"
   ]
  },
  {
   "cell_type": "code",
   "execution_count": null,
   "id": "103dc285-4dc3-4f30-98b9-03318de9d2f9",
   "metadata": {},
   "outputs": [],
   "source": [
    "plt.figure(figsize=(10, 6))\n",
    "\n",
    "for i in range(X_umap.shape[0]):\n",
    "    plt.scatter(X_umap[i, 0], X_umap[i, 1], \n",
    "                color=cluster_colors[i], \n",
    "                edgecolors=true_colors[i],\n",
    "                s=40, alpha=0.8, linewidth=1.2)\n",
    "\n",
    "centers_umap = reducer.transform(kmeans.cluster_centers_)\n",
    "plt.scatter(centers_umap[:, 0], centers_umap[:, 1], \n",
    "            c='red', s=50, marker='X', label='Centroids')\n",
    "\n",
    "cluster_handles = [mpatches.Patch(color=cluster_cmap(i / (n_clusters - 1)), label=f'Cluster {i}')\n",
    "                   for i in range(n_clusters)]\n",
    "\n",
    "unique_labels, label_names = pd.factorize(y)\n",
    "true_label_handles = [mpatches.Patch(edgecolor=true_cmap(i / (len(label_names) - 1)), \n",
    "                                     facecolor='white', label=label_names[i])\n",
    "                      for i in range(len(label_names))]\n",
    "\n",
    "legend1 = plt.legend(handles=cluster_handles, title='Cluster Colors', loc='upper left', bbox_to_anchor=(1, 1))\n",
    "legend2 = plt.legend(handles=true_label_handles, title='True Labels', loc='lower left', bbox_to_anchor=(1, 0))\n",
    "plt.gca().add_artist(legend1)\n",
    "\n",
    "plt.title('K-means Clustering with UMAP Projection (vs True Labels)')\n",
    "plt.xlabel('UMAP Component 1')\n",
    "plt.ylabel('UMAP Component 2')\n",
    "plt.grid()\n",
    "\n",
    "plt.show()"
   ]
  },
  {
   "cell_type": "markdown",
   "id": "9b4eb602-edc0-4abb-bbd3-6402ebbf03d0",
   "metadata": {},
   "source": [
    "**Discuss with your neighbour:** Which class get's the cleanest cluster?"
   ]
  },
  {
   "cell_type": "markdown",
   "id": "e9df6352-4ebd-4449-b7a6-62b5396721e0",
   "metadata": {},
   "source": [
    "**To do:** Change the number of clusters and rerun the cells above. Observe what changes and think if it makes sence given your knowledge of the dataset."
   ]
  },
  {
   "cell_type": "code",
   "execution_count": null,
   "id": "13194e2d-2bf3-49b4-980f-7c4e0838eb55",
   "metadata": {},
   "outputs": [],
   "source": [
    "silhouette = silhouette_score(X_scaled, labels)\n",
    "print(f'Silhouette Score: {silhouette:.2f}')"
   ]
  },
  {
   "cell_type": "markdown",
   "id": "8f689b68-3beb-420a-afc5-212700f34132",
   "metadata": {},
   "source": [
    "**Discuss with your neighbour:** How would you evaluate the performance of this clustering as a whole?"
   ]
  },
  {
   "cell_type": "markdown",
   "id": "e7e82bf6-e1eb-458f-af80-ca4bfcef4320",
   "metadata": {},
   "source": [
    "Let's now try to plot the result of clustering with different numbers of clusters side-by-side:"
   ]
  },
  {
   "cell_type": "code",
   "execution_count": null,
   "id": "534cdc5c-82b7-4dc6-bf8e-d9ce765a3c6d",
   "metadata": {},
   "outputs": [],
   "source": [
    "clusters = [2, 3, 4] # change this into how many clusters you want!"
   ]
  },
  {
   "cell_type": "code",
   "execution_count": null,
   "id": "3f89a2f5-6758-4311-9500-abc157af8df7",
   "metadata": {},
   "outputs": [],
   "source": [
    "fig, axes = plt.subplots(1, 3, figsize=(18, 5), sharex=True, sharey=True)\n",
    "\n",
    "for i, n_clusters in enumerate(clusters):\n",
    "    kmeans = KMeans(n_clusters=n_clusters, random_state=42, n_init='auto')\n",
    "    labels = kmeans.fit_predict(X_scaled)\n",
    "    \n",
    "    axes[i].scatter(X_umap[:, 0], X_umap[:, 1], c=labels, cmap='viridis', s=30, alpha=0.8, edgecolors='k')\n",
    "    \n",
    "    centers_umap = reducer.transform(kmeans.cluster_centers_)\n",
    "    axes[i].scatter(centers_umap[:, 0], centers_umap[:, 1], c='red', s=80, marker='X', label='Centroids')\n",
    "\n",
    "    axes[i].set_title(f'K-means with {n_clusters} clusters')\n",
    "    axes[i].set_xlabel('UMAP Component 1')\n",
    "    if i == 0:\n",
    "        axes[i].set_ylabel('UMAP Component 2')\n",
    "    axes[i].grid()\n",
    "\n",
    "plt.tight_layout()\n",
    "plt.show()"
   ]
  },
  {
   "cell_type": "markdown",
   "id": "87332328-f489-42a0-89b4-2755ef1d5987",
   "metadata": {},
   "source": [
    "**To do (for the report):** Change the three numbers in the clusters list to produce a plot with three clusterings (please **do not** use [2,3,4] for your report!) and discuss different clustering results in your report. **This figure needs to be improved** before you put it in your report: you need to add legend, fix label sizes, etc. (demonstrate what you can do to make it presentable and make sure the point you are trying to make is clearly visible).\n",
    "\n",
    "*NB:* you do not need to show real classes (and you would normally not be able to do that when working with clustering) but feel free to do that if you want to discuss this for your report. If you do, it might be helpful to read the description of classes in the Audenaert at al (2021) paper and look at the statistical distribution of features (as you did for session 6) but this is not compulsory. These additional plots are not required but feel free to include them if they support your point."
   ]
  },
  {
   "cell_type": "code",
   "execution_count": null,
   "id": "907d92b4-2d22-491b-be73-68fbafc4c5fe",
   "metadata": {},
   "outputs": [],
   "source": []
  },
  {
   "cell_type": "code",
   "execution_count": null,
   "id": "cc96df05-d1d3-46e9-85e5-305eee96305f",
   "metadata": {},
   "outputs": [],
   "source": []
  }
 ],
 "metadata": {
  "kernelspec": {
   "display_name": "Python 3 (ipykernel)",
   "language": "python",
   "name": "python3"
  },
  "language_info": {
   "codemirror_mode": {
    "name": "ipython",
    "version": 3
   },
   "file_extension": ".py",
   "mimetype": "text/x-python",
   "name": "python",
   "nbconvert_exporter": "python",
   "pygments_lexer": "ipython3",
   "version": "3.12.7"
  }
 },
 "nbformat": 4,
 "nbformat_minor": 5
}
